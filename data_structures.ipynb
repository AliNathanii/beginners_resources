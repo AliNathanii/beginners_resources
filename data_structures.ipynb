{
 "cells": [
  {
   "cell_type": "markdown",
   "id": "99d041a7-46f8-46f2-bca4-57f22360b483",
   "metadata": {},
   "source": [
    "Lists: Question - Appending and Removing Elements: Create an empty list called my_list. Append the numbers 1, 2, and 3 to my_list. Then remove the number 2 from the list."
   ]
  },
  {
   "cell_type": "code",
   "execution_count": 1,
   "id": "ba49ea91-ef4d-4459-b73b-99d24f26fe7c",
   "metadata": {},
   "outputs": [
    {
     "data": {
      "text/plain": [
       "[1, 3]"
      ]
     },
     "execution_count": 1,
     "metadata": {},
     "output_type": "execute_result"
    }
   ],
   "source": [
    "my_list = []\n",
    "my_list.append(1)\n",
    "my_list.append(2)\n",
    "my_list.append(3)\n",
    "my_list.remove(2)\n",
    "\n",
    "my_list"
   ]
  },
  {
   "cell_type": "markdown",
   "id": "b14e4a4b-1b11-4981-831e-20bbee997b83",
   "metadata": {},
   "source": [
    "Question- Accessing Elements: Create a list called fruits containing the strings \"apple\", \"banana\", \"cherry\", \"date\". Print the second element of the list."
   ]
  },
  {
   "cell_type": "code",
   "execution_count": 7,
   "id": "3d2413f3-535f-443a-91c0-77e7e4bd4701",
   "metadata": {},
   "outputs": [
    {
     "data": {
      "text/plain": [
       "'banana'"
      ]
     },
     "execution_count": 7,
     "metadata": {},
     "output_type": "execute_result"
    }
   ],
   "source": [
    "fruits = [\"apple\", \"banana\", \"cherry\", \"date\"]\n",
    "second_element = fruits[1]\n",
    "\n",
    "second_element"
   ]
  },
  {
   "cell_type": "markdown",
   "id": "16ab1a2c-c14e-4f04-9f1b-580768c6ffc3",
   "metadata": {},
   "source": [
    "Question- Slicing: Create a list called numbers containing the numbers from 1 to 10. Print a slice of the list containing elements from the third element to the sixth element."
   ]
  },
  {
   "cell_type": "code",
   "execution_count": 8,
   "id": "c16435d1-841e-43ec-95bb-2ad6bd5732a9",
   "metadata": {},
   "outputs": [
    {
     "data": {
      "text/plain": [
       "[3, 4, 5, 6]"
      ]
     },
     "execution_count": 8,
     "metadata": {},
     "output_type": "execute_result"
    }
   ],
   "source": [
    "# Slicing a list\n",
    "numbers = list(range(1, 11))\n",
    "sliced_numbers = numbers[2:6]  # Indices 2 through 5 (third to sixth elements)\n",
    "\n",
    "sliced_numbers\n"
   ]
  },
  {
   "cell_type": "markdown",
   "id": "60f087f6-b2a2-4982-8739-183946355e1b",
   "metadata": {},
   "source": [
    "Sets Question - Adding and Removing Elements: Create an empty set called my_set. Add the numbers 1, 2, and 3 to my_set. Then remove the number 2 from the set."
   ]
  },
  {
   "cell_type": "code",
   "execution_count": 9,
   "id": "3b8a161e-129a-4b4a-a261-8d8fa2cdbf57",
   "metadata": {},
   "outputs": [
    {
     "data": {
      "text/plain": [
       "{1, 3}"
      ]
     },
     "execution_count": 9,
     "metadata": {},
     "output_type": "execute_result"
    }
   ],
   "source": [
    "my_set = set()\n",
    "my_set.add(1)\n",
    "my_set.add(2)\n",
    "my_set.add(3)\n",
    "my_set.remove(2)\n",
    "\n",
    "my_set"
   ]
  },
  {
   "cell_type": "markdown",
   "id": "854fa195-e12e-43c8-952d-c329f9119666",
   "metadata": {},
   "source": [
    "Question - Operations: Create two sets called set1 and set2, each containing a few numbers. Print the union, intersection, and difference of the two sets."
   ]
  },
  {
   "cell_type": "code",
   "execution_count": 10,
   "id": "c508fdc7-76d8-4fba-9673-6c829c54127b",
   "metadata": {},
   "outputs": [
    {
     "data": {
      "text/plain": [
       "({1, 2, 3, 4, 5, 6}, {3, 4}, {1, 2})"
      ]
     },
     "execution_count": 10,
     "metadata": {},
     "output_type": "execute_result"
    }
   ],
   "source": [
    "set1 = {1, 2, 3, 4}\n",
    "set2 = {3, 4, 5, 6}\n",
    "\n",
    "union_set = set1.union(set2)\n",
    "intersection_set = set1.intersection(set2)\n",
    "difference_set = set1.difference(set2)\n",
    "\n",
    "union_set, intersection_set, difference_set"
   ]
  },
  {
   "cell_type": "markdown",
   "id": "ca100511-cef6-4fc6-bb83-c0ffdcc8dd16",
   "metadata": {},
   "source": [
    "Tuples Question - Accessing Elements: Create a tuple called coordinates containing the latitude and longitude of a location (e.g., (40.7128, -74.0060) for New York City). Print the latitude and longitude separately."
   ]
  },
  {
   "cell_type": "code",
   "execution_count": 11,
   "id": "494c07b3-f992-436d-8744-003596f1a60a",
   "metadata": {},
   "outputs": [
    {
     "data": {
      "text/plain": [
       "(40.7128, -74.006)"
      ]
     },
     "execution_count": 11,
     "metadata": {},
     "output_type": "execute_result"
    }
   ],
   "source": [
    "\n",
    "coordinates = (40.7128, -74.0060)\n",
    "latitude, longitude = coordinates\n",
    "\n",
    "latitude, longitude\n"
   ]
  },
  {
   "cell_type": "markdown",
   "id": "b5f85374-0ded-4c53-b5a4-b2cbb378a41a",
   "metadata": {},
   "source": [
    "Question - Packing and Unpacking: Create a tuple called person containing information about a person, such as their name, age, and city. Then unpack the tuple into individual variables."
   ]
  },
  {
   "cell_type": "code",
   "execution_count": 12,
   "id": "a697277a-8f33-4903-afd6-f749253f035b",
   "metadata": {},
   "outputs": [
    {
     "data": {
      "text/plain": [
       "('Alice', 30, 'New York')"
      ]
     },
     "execution_count": 12,
     "metadata": {},
     "output_type": "execute_result"
    }
   ],
   "source": [
    "person = (\"Alice\", 30, \"New York\")\n",
    "name, age, city = person\n",
    "\n",
    "name, age, city"
   ]
  },
  {
   "cell_type": "code",
   "execution_count": null,
   "id": "ae96068c-ab03-476e-9adb-1677bbae4d2b",
   "metadata": {},
   "outputs": [],
   "source": []
  }
 ],
 "metadata": {
  "kernelspec": {
   "display_name": "Python 3 (ipykernel)",
   "language": "python",
   "name": "python3"
  },
  "language_info": {
   "codemirror_mode": {
    "name": "ipython",
    "version": 3
   },
   "file_extension": ".py",
   "mimetype": "text/x-python",
   "name": "python",
   "nbconvert_exporter": "python",
   "pygments_lexer": "ipython3",
   "version": "3.8.2"
  }
 },
 "nbformat": 4,
 "nbformat_minor": 5
}
